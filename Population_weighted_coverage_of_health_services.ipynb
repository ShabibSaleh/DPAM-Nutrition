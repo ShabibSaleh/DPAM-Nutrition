{
  "nbformat": 4,
  "nbformat_minor": 0,
  "metadata": {
    "colab": {
      "provenance": [],
      "toc_visible": true,
      "authorship_tag": "ABX9TyPBzg/06RYRx5X+4VD6DS3Q",
      "include_colab_link": true
    },
    "kernelspec": {
      "name": "python3",
      "display_name": "Python 3"
    },
    "language_info": {
      "name": "python"
    }
  },
  "cells": [
    {
      "cell_type": "markdown",
      "metadata": {
        "id": "view-in-github",
        "colab_type": "text"
      },
      "source": [
        "<a href=\"https://colab.research.google.com/github/ShabibSaleh/DPAM-Nutrition/blob/main/Population_weighted_coverage_of_health_services.ipynb\" target=\"_parent\"><img src=\"https://colab.research.google.com/assets/colab-badge.svg\" alt=\"Open In Colab\"/></a>"
      ]
    },
    {
      "cell_type": "code",
      "execution_count": null,
      "metadata": {
        "id": "mXFWt3mUuC3P"
      },
      "outputs": [],
      "source": []
    },
    {
      "cell_type": "markdown",
      "source": [
        "# Read data from Google sheet"
      ],
      "metadata": {
        "id": "M0m6wpWZuKtB"
      }
    },
    {
      "cell_type": "code",
      "source": [
        "!pip install --upgrade gspread google-auth"
      ],
      "metadata": {
        "colab": {
          "base_uri": "https://localhost:8080/",
          "height": 723
        },
        "id": "A_g9uoVJuNjo",
        "outputId": "2ccf912a-2119-4938-c21c-7abc2121a8ee"
      },
      "execution_count": 1,
      "outputs": [
        {
          "output_type": "stream",
          "name": "stdout",
          "text": [
            "Requirement already satisfied: gspread in /usr/local/lib/python3.10/dist-packages (6.0.2)\n",
            "Collecting gspread\n",
            "  Downloading gspread-6.1.2-py3-none-any.whl.metadata (11 kB)\n",
            "Requirement already satisfied: google-auth in /usr/local/lib/python3.10/dist-packages (2.27.0)\n",
            "Collecting google-auth\n",
            "  Downloading google_auth-2.33.0-py2.py3-none-any.whl.metadata (4.7 kB)\n",
            "Requirement already satisfied: google-auth-oauthlib>=0.4.1 in /usr/local/lib/python3.10/dist-packages (from gspread) (1.2.1)\n",
            "Requirement already satisfied: cachetools<6.0,>=2.0.0 in /usr/local/lib/python3.10/dist-packages (from google-auth) (5.4.0)\n",
            "Requirement already satisfied: pyasn1-modules>=0.2.1 in /usr/local/lib/python3.10/dist-packages (from google-auth) (0.4.0)\n",
            "Requirement already satisfied: rsa<5,>=3.1.4 in /usr/local/lib/python3.10/dist-packages (from google-auth) (4.9)\n",
            "Requirement already satisfied: requests-oauthlib>=0.7.0 in /usr/local/lib/python3.10/dist-packages (from google-auth-oauthlib>=0.4.1->gspread) (1.3.1)\n",
            "Requirement already satisfied: pyasn1<0.7.0,>=0.4.6 in /usr/local/lib/python3.10/dist-packages (from pyasn1-modules>=0.2.1->google-auth) (0.6.0)\n",
            "Requirement already satisfied: oauthlib>=3.0.0 in /usr/local/lib/python3.10/dist-packages (from requests-oauthlib>=0.7.0->google-auth-oauthlib>=0.4.1->gspread) (3.2.2)\n",
            "Requirement already satisfied: requests>=2.0.0 in /usr/local/lib/python3.10/dist-packages (from requests-oauthlib>=0.7.0->google-auth-oauthlib>=0.4.1->gspread) (2.32.3)\n",
            "Requirement already satisfied: charset-normalizer<4,>=2 in /usr/local/lib/python3.10/dist-packages (from requests>=2.0.0->requests-oauthlib>=0.7.0->google-auth-oauthlib>=0.4.1->gspread) (3.3.2)\n",
            "Requirement already satisfied: idna<4,>=2.5 in /usr/local/lib/python3.10/dist-packages (from requests>=2.0.0->requests-oauthlib>=0.7.0->google-auth-oauthlib>=0.4.1->gspread) (3.7)\n",
            "Requirement already satisfied: urllib3<3,>=1.21.1 in /usr/local/lib/python3.10/dist-packages (from requests>=2.0.0->requests-oauthlib>=0.7.0->google-auth-oauthlib>=0.4.1->gspread) (2.0.7)\n",
            "Requirement already satisfied: certifi>=2017.4.17 in /usr/local/lib/python3.10/dist-packages (from requests>=2.0.0->requests-oauthlib>=0.7.0->google-auth-oauthlib>=0.4.1->gspread) (2024.7.4)\n",
            "Downloading gspread-6.1.2-py3-none-any.whl (57 kB)\n",
            "\u001b[2K   \u001b[90m━━━━━━━━━━━━━━━━━━━━━━━━━━━━━━━━━━━━━━━━\u001b[0m \u001b[32m57.5/57.5 kB\u001b[0m \u001b[31m2.1 MB/s\u001b[0m eta \u001b[36m0:00:00\u001b[0m\n",
            "\u001b[?25hDownloading google_auth-2.33.0-py2.py3-none-any.whl (200 kB)\n",
            "\u001b[2K   \u001b[90m━━━━━━━━━━━━━━━━━━━━━━━━━━━━━━━━━━━━━━━━\u001b[0m \u001b[32m200.5/200.5 kB\u001b[0m \u001b[31m6.3 MB/s\u001b[0m eta \u001b[36m0:00:00\u001b[0m\n",
            "\u001b[?25hInstalling collected packages: google-auth, gspread\n",
            "  Attempting uninstall: google-auth\n",
            "    Found existing installation: google-auth 2.27.0\n",
            "    Uninstalling google-auth-2.27.0:\n",
            "      Successfully uninstalled google-auth-2.27.0\n",
            "  Attempting uninstall: gspread\n",
            "    Found existing installation: gspread 6.0.2\n",
            "    Uninstalling gspread-6.0.2:\n",
            "      Successfully uninstalled gspread-6.0.2\n",
            "\u001b[31mERROR: pip's dependency resolver does not currently take into account all the packages that are installed. This behaviour is the source of the following dependency conflicts.\n",
            "google-colab 1.0.0 requires google-auth==2.27.0, but you have google-auth 2.33.0 which is incompatible.\u001b[0m\u001b[31m\n",
            "\u001b[0mSuccessfully installed google-auth-2.33.0 gspread-6.1.2\n"
          ]
        },
        {
          "output_type": "display_data",
          "data": {
            "application/vnd.colab-display-data+json": {
              "pip_warning": {
                "packages": [
                  "google"
                ]
              },
              "id": "e3068ff30e2b496c91b2e10ef8a851d1"
            }
          },
          "metadata": {}
        }
      ]
    },
    {
      "cell_type": "code",
      "source": [
        "from google.colab import auth\n",
        "auth.authenticate_user()\n",
        "\n",
        "import gspread\n",
        "from google.auth import default\n",
        "creds, _ = default()\n",
        "\n",
        "gc = gspread.authorize(creds)"
      ],
      "metadata": {
        "id": "u2jF-HKJuaj1"
      },
      "execution_count": 1,
      "outputs": []
    },
    {
      "cell_type": "code",
      "source": [
        "# Open a sheet from a spreadsheet by name\n",
        "spreadsheet = gc.open('Population-weighted coverage of health services')\n",
        "\n",
        "# If you have the URL, you can do it this way:\n",
        "# spreadsheet = gc.open_by_url('Your_Spreadsheet_URL')"
      ],
      "metadata": {
        "id": "Zlo9JKlOugRa"
      },
      "execution_count": 2,
      "outputs": []
    },
    {
      "cell_type": "markdown",
      "source": [
        "# Data preparation and Cleaning"
      ],
      "metadata": {
        "id": "kYeV7lzKxiv6"
      }
    },
    {
      "cell_type": "markdown",
      "source": [
        "## on-track and off-track countries dataset"
      ],
      "metadata": {
        "id": "UlobPT4Px4je"
      }
    },
    {
      "cell_type": "code",
      "source": [
        "# Get a worksheet by name\n",
        "worksheet = spreadsheet.worksheet('On & off-track countries')\n",
        "\n",
        "# Get all values from the worksheet\n",
        "rows = worksheet.get_all_values()\n",
        "\n",
        "print(rows)\n"
      ],
      "metadata": {
        "colab": {
          "base_uri": "https://localhost:8080/"
        },
        "id": "ASQVUpRGurl4",
        "outputId": "93a51761-e5fd-4c8d-c8cb-d2686d791620"
      },
      "execution_count": 6,
      "outputs": [
        {
          "output_type": "stream",
          "name": "stdout",
          "text": [
            "[['ISO3Code', 'OfficialName', 'Status.U5MR'], ['AFG', 'Afghanistan', 'Acceleration Needed'], ['AGO', 'Angola', 'Acceleration Needed'], ['AIA', 'Anguilla', 'Achieved'], ['ALB', 'Albania', 'Achieved'], ['AND', 'Andorra', 'Achieved'], ['ARE', 'United Arab Emirates', 'Achieved'], ['ARG', 'Argentina', 'Achieved'], ['ARM', 'Armenia', 'Achieved'], ['ATG', 'Antigua and Barbuda', 'Achieved'], ['AUS', 'Australia', 'Achieved'], ['AUT', 'Austria', 'Achieved'], ['AZE', 'Azerbaijan', 'Achieved'], ['BEN', 'Benin', 'Acceleration Needed'], ['BEL', 'Belgium', 'Achieved'], ['BWA', 'Botswana', 'Acceleration Needed'], ['BFA', 'Burkina Faso', 'Acceleration Needed'], ['BGD', 'Bangladesh', 'On Track'], ['BGR', 'Bulgaria', 'Achieved'], ['BHR', 'Bahrain', 'Achieved'], ['BHS', 'Bahamas', 'Achieved'], ['BIH', 'Bosnia and Herzegovina', 'Achieved'], ['BLR', 'Belarus', 'Achieved'], ['BLZ', 'Belize', 'Achieved'], ['BOL', 'Bolivia (Plurinational State of)', 'Achieved'], ['BRA', 'Brazil', 'Achieved'], ['BRB', 'Barbados', 'Achieved'], ['BRN', 'Brunei Darussalam', 'Achieved'], ['BTN', 'Bhutan', 'Achieved'], ['BDI', 'Burundi', 'Acceleration Needed'], ['CMR', 'Cameroon', 'Acceleration Needed'], ['CAN', 'Canada', 'Achieved'], ['CHE', 'Switzerland', 'Achieved'], ['CHL', 'Chile', 'Achieved'], ['CHN', 'China', 'Achieved'], ['CAF', 'Central African Republic', 'Acceleration Needed'], ['TCD', 'Chad', 'Acceleration Needed'], ['COM', 'Comoros', 'Acceleration Needed'], ['COG', 'Congo', 'Acceleration Needed'], ['COK', 'Cook Islands', 'Achieved'], ['COL', 'Colombia', 'Achieved'], ['CIV', \"Côte d'Ivoire\", 'Acceleration Needed'], ['CPV', 'Cabo Verde', 'Achieved'], ['CRI', 'Costa Rica', 'Achieved'], ['CUB', 'Cuba', 'Achieved'], ['CYP', 'Cyprus', 'Achieved'], ['CZE', 'Czechia', 'Achieved'], ['DEU', 'Germany', 'Achieved'], ['COD', 'Democratic Republic of the Congo', 'Acceleration Needed'], ['DMA', 'Dominica', 'Acceleration Needed'], ['DNK', 'Denmark', 'Achieved'], ['DOM', 'Dominican Republic', 'Acceleration Needed'], ['DZA', 'Algeria', 'Achieved'], ['ECU', 'Ecuador', 'Achieved'], ['EGY', 'Egypt', 'Achieved'], ['DJI', 'Djibouti', 'Acceleration Needed'], ['ESP', 'Spain', 'Achieved'], ['EST', 'Estonia', 'Achieved'], ['ETH', 'Ethiopia', 'Acceleration Needed'], ['FIN', 'Finland', 'Achieved'], ['GNQ', 'Equatorial Guinea', 'Acceleration Needed'], ['FRA', 'France', 'Achieved'], ['FSM', 'Micronesia (Federated States of)', 'Achieved'], ['ERI', 'Eritrea', 'Acceleration Needed'], ['GBR', 'United Kingdom', 'Achieved'], ['GEO', 'Georgia', 'Achieved'], ['SWZ', 'Eswatini', 'Acceleration Needed'], ['FJI', 'Fiji', 'Acceleration Needed'], ['GAB', 'Gabon', 'Acceleration Needed'], ['GMB', 'Gambia', 'Acceleration Needed'], ['GHA', 'Ghana', 'Acceleration Needed'], ['GRC', 'Greece', 'Achieved'], ['GRD', 'Grenada', 'Achieved'], ['GTM', 'Guatemala', 'Achieved'], ['GUY', 'Guyana', 'On Track'], ['HND', 'Honduras', 'Achieved'], ['HRV', 'Croatia', 'Achieved'], ['GIN', 'Guinea', 'Acceleration Needed'], ['HUN', 'Hungary', 'Achieved'], ['IDN', 'Indonesia', 'Achieved'], ['IND', 'India', 'On Track'], ['IRL', 'Ireland', 'Achieved'], ['IRN', 'Iran (Islamic Republic of)', 'Achieved'], ['IRQ', 'Iraq', 'Achieved'], ['ISL', 'Iceland', 'Achieved'], ['ISR', 'Israel', 'Achieved'], ['ITA', 'Italy', 'Achieved'], ['JAM', 'Jamaica', 'Achieved'], ['JOR', 'Jordan', 'Achieved'], ['JPN', 'Japan', 'Achieved'], ['KAZ', 'Kazakhstan', 'Achieved'], ['GNB', 'Guinea-Bissau', 'Acceleration Needed'], ['KGZ', 'Kyrgyzstan', 'Achieved'], ['KHM', 'Cambodia', 'Achieved'], ['HTI', 'Haiti', 'Acceleration Needed'], ['KNA', 'Saint Kitts and Nevis', 'Achieved'], ['KOR', 'Republic of Korea', 'Achieved'], ['KWT', 'Kuwait', 'Achieved'], ['KEN', 'Kenya', 'Acceleration Needed'], ['LBN', 'Lebanon', 'Achieved'], ['KIR', 'Kiribati', 'Acceleration Needed'], ['LBY', 'Libya', 'Achieved'], ['LCA', 'Saint Lucia', 'Achieved'], ['LKA', 'Sri Lanka', 'Achieved'], ['LAO', \"Lao People's Democratic Republic\", 'Acceleration Needed'], ['LTU', 'Lithuania', 'Achieved'], ['LUX', 'Luxembourg', 'Achieved'], ['LVA', 'Latvia', 'Achieved'], ['MAR', 'Morocco', 'Achieved'], ['MCO', 'Monaco', 'Achieved'], ['MDA', 'Republic of Moldova', 'Achieved'], ['LSO', 'Lesotho', 'Acceleration Needed'], ['MDV', 'Maldives', 'Achieved'], ['MEX', 'Mexico', 'Achieved'], ['MHL', 'Marshall Islands', 'On Track'], ['MKD', 'North Macedonia', 'Achieved'], ['LBR', 'Liberia', 'Acceleration Needed'], ['MLT', 'Malta', 'Achieved'], ['MDG', 'Madagascar', 'Acceleration Needed'], ['MNE', 'Montenegro', 'Achieved'], ['MNG', 'Mongolia', 'Achieved'], ['MLI', 'Mali', 'Acceleration Needed'], ['MRT', 'Mauritania', 'Acceleration Needed'], ['MSR', 'Montserrat', 'Achieved'], ['MUS', 'Mauritius', 'Achieved'], ['MWI', 'Malawi', 'Acceleration Needed'], ['MYS', 'Malaysia', 'Achieved'], ['MOZ', 'Mozambique', 'Acceleration Needed'], ['MMR', 'Myanmar', 'Acceleration Needed'], ['NAM', 'Namibia', 'Acceleration Needed'], ['NIC', 'Nicaragua', 'Achieved'], ['NIU', 'Niue', 'Achieved'], ['NLD', 'Netherlands (Kingdom of the)', 'Achieved'], ['NOR', 'Norway', 'Achieved'], ['NPL', 'Nepal', 'On Track'], ['NRU', 'Nauru', 'On Track'], ['NZL', 'New Zealand', 'Achieved'], ['OMN', 'Oman', 'Achieved'], ['NER', 'Niger', 'Acceleration Needed'], ['PAN', 'Panama', 'Achieved'], ['PER', 'Peru', 'Achieved'], ['PHL', 'Philippines', 'Acceleration Needed'], ['PLW', 'Palau', 'Achieved'], ['NGA', 'Nigeria', 'Acceleration Needed'], ['POL', 'Poland', 'Achieved'], ['PRK', \"Democratic People's Republic of Korea\", 'Achieved'], ['PRT', 'Portugal', 'Achieved'], ['PRY', 'Paraguay', 'Achieved'], ['PSE', 'State of Palestine', 'Achieved'], ['QAT', 'Qatar', 'Achieved'], ['RKS', 'Kosovo (UNSCR 1244)', 'Achieved'], ['ROU', 'Romania', 'Achieved'], ['RUS', 'Russian Federation', 'Achieved'], ['PAK', 'Pakistan', 'Acceleration Needed'], ['SAU', 'Saudi Arabia', 'Achieved'], ['PNG', 'Papua New Guinea', 'Acceleration Needed'], ['SEN', 'Senegal', 'Acceleration Needed'], ['SGP', 'Singapore', 'Achieved'], ['SLB', 'Solomon Islands', 'Achieved'], ['RWA', 'Rwanda', 'Acceleration Needed'], ['SLV', 'El Salvador', 'Achieved'], ['SMR', 'San Marino', 'Achieved'], ['SLE', 'Sierra Leone', 'Acceleration Needed'], ['SRB', 'Serbia', 'Achieved'], ['SOM', 'Somalia', 'Acceleration Needed'], ['STP', 'Sao Tome and Principe', 'Achieved'], ['SUR', 'Suriname', 'Achieved'], ['SVK', 'Slovakia', 'Achieved'], ['SVN', 'Slovenia', 'Achieved'], ['SWE', 'Sweden', 'Achieved'], ['ZAF', 'South Africa', 'Acceleration Needed'], ['SYC', 'Seychelles', 'Achieved'], ['SYR', 'Syrian Arab Republic', 'Achieved'], ['TCA', 'Turks and Caicos Islands', 'Achieved'], ['SSD', 'South Sudan', 'Acceleration Needed'], ['SDN', 'Sudan', 'Acceleration Needed'], ['THA', 'Thailand', 'Achieved'], ['TJK', 'Tajikistan', 'On Track'], ['TLS', 'Timor-Leste', 'Acceleration Needed'], ['TGO', 'Togo', 'Acceleration Needed'], ['TON', 'Tonga', 'Achieved'], ['TTO', 'Trinidad and Tobago', 'Achieved'], ['TUN', 'Tunisia', 'Achieved'], ['TUR', 'Türkiye', 'Achieved'], ['TUV', 'Tuvalu', 'Achieved'], ['TZA', 'United Republic of Tanzania', 'Acceleration Needed'], ['TKM', 'Turkmenistan', 'Acceleration Needed'], ['UKR', 'Ukraine', 'Achieved'], ['URY', 'Uruguay', 'Achieved'], ['USA', 'United States', 'Achieved'], ['UZB', 'Uzbekistan', 'Achieved'], ['VCT', 'Saint Vincent and the Grenadines', 'Achieved'], ['VEN', 'Venezuela (Bolivarian Republic of)', 'Achieved'], ['VGB', 'British Virgin Islands', 'Achieved'], ['VNM', 'Viet Nam', 'Achieved'], ['VUT', 'Vanuatu', 'Achieved'], ['WSM', 'Samoa', 'Achieved'], ['UGA', 'Uganda', 'Acceleration Needed'], ['YEM', 'Yemen', 'Acceleration Needed'], ['ZMB', 'Zambia', 'Acceleration Needed'], ['ZWE', 'Zimbabwe', 'Acceleration Needed']]\n"
          ]
        }
      ]
    },
    {
      "cell_type": "code",
      "source": [
        "#Convert data to pandas DataFrame (if needed)\n",
        "import pandas as pd\n",
        "df = pd.DataFrame.from_records(rows[1:],columns=rows[0])  # Skip header row"
      ],
      "metadata": {
        "id": "nq3ZBj9Dyjll"
      },
      "execution_count": 8,
      "outputs": []
    },
    {
      "cell_type": "code",
      "source": [
        "# Check for missing values and data types\n",
        "df.info()\n",
        "\n",
        "# Check for duplicates\n",
        "duplicate_rows = df[df.duplicated()]\n",
        "\n",
        "# Show summary of the findings\n",
        "missing_values = df.isnull().sum()\n",
        "duplicate_rows_count = duplicate_rows.shape[0]\n",
        "\n",
        "missing_values, duplicate_rows_count\n"
      ],
      "metadata": {
        "colab": {
          "base_uri": "https://localhost:8080/"
        },
        "id": "eWri7YVwyMoU",
        "outputId": "8f915bdb-db23-441c-effa-e784a3fa5e46"
      },
      "execution_count": 10,
      "outputs": [
        {
          "output_type": "stream",
          "name": "stdout",
          "text": [
            "<class 'pandas.core.frame.DataFrame'>\n",
            "RangeIndex: 200 entries, 0 to 199\n",
            "Data columns (total 3 columns):\n",
            " #   Column        Non-Null Count  Dtype \n",
            "---  ------        --------------  ----- \n",
            " 0   ISO3Code      200 non-null    object\n",
            " 1   OfficialName  200 non-null    object\n",
            " 2   Status.U5MR   200 non-null    object\n",
            "dtypes: object(3)\n",
            "memory usage: 4.8+ KB\n"
          ]
        },
        {
          "output_type": "execute_result",
          "data": {
            "text/plain": [
              "(ISO3Code        0\n",
              " OfficialName    0\n",
              " Status.U5MR     0\n",
              " dtype: int64,\n",
              " 0)"
            ]
          },
          "metadata": {},
          "execution_count": 10
        }
      ]
    }
  ]
}